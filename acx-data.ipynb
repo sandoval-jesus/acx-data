{
 "cells": [
  {
   "cell_type": "code",
   "execution_count": null,
   "id": "49362741",
   "metadata": {},
   "outputs": [],
   "source": [
    "# python libraries\n",
    "import os\n",
    "import numpy as np\n",
    "import pandas as pd\n",
    "import pyodbc\n",
    "import glob\n",
    "from datetime import datetime\n",
    "from datetime import date\n",
    "from dotenv import load_dotenv"
   ]
  },
  {
   "cell_type": "code",
   "execution_count": null,
   "id": "f60e3d7b",
   "metadata": {},
   "outputs": [],
   "source": [
    "# drivers cherck\n",
    "pyodbc.drivers()"
   ]
  },
  {
   "cell_type": "code",
   "execution_count": null,
   "id": "110a6ac3",
   "metadata": {},
   "outputs": [],
   "source": [
    "# .env\n",
    "load_dotenv()\n",
    "\n",
    "# info\n",
    "user = os.getenv(\"DB_USER\")\n",
    "password = os.getenv(\"DB_PASS\")\n",
    "server = os.getenv(\"DB_SERVER\")\n",
    "dbname = os.getenv(\"DB_NAME\")"
   ]
  },
  {
   "cell_type": "code",
   "execution_count": null,
   "id": "21cece36",
   "metadata": {},
   "outputs": [],
   "source": [
    "# sql connection\n",
    "conn_str = (\n",
    "    f\"DRIVER={{ODBC Driver 17 for SQL Server}};\"\n",
    "    f\"SERVER={server};\"\n",
    "    f\"DATABASE={dbname};\"\n",
    "    f\"UID={user};\"\n",
    "    f\"PWD={password}\"\n",
    ")\n",
    "\n",
    "conn = pyodbc.connect(conn_str)\n",
    "cursor = conn.cursor()\n"
   ]
  },
  {
   "cell_type": "markdown",
   "id": "288d097b",
   "metadata": {},
   "source": [
    "## Data to table SQL `final_result_tester`"
   ]
  },
  {
   "cell_type": "code",
   "execution_count": null,
   "id": "774a2806",
   "metadata": {},
   "outputs": [],
   "source": [
    "# file root\n",
    "folder_path = r\"\\\\myserver\\\\c1\\\\2025\"\n",
    "\n",
    "def get_all_csv_files():\n",
    "    return glob.glob(os.path.join(folder_path, \"*.csv\"))\n",
    "\n",
    "check_sql = \"SELECT COUNT(1) FROM final_result_tester WHERE idrep = ?\"\n",
    "\n",
    "insert_sql = '''INSERT INTO final_result_tester (\n",
    "    [date], [time], [model], [serial_number], [hipot_voltage],\n",
    "    [hipot_leakage_current], [hipot_evaluation], [ground_bond_current],\n",
    "    [ground_bond_voltage], [ground_bond_resistance], [ground_bond_evaluation],\n",
    "    [free_run_voltage], [free_run_current], [free_run_power], [free_run_speed],\n",
    "    [free_run_direction], [free_run_evaluation], [product_evaluation], [idrep]\n",
    ") VALUES (?, ?, ?, ?, ?, ?, ?, ?, ?, ?, ?, ?, ?, ?, ?, ?, ?, ?, ?)'''\n",
    "\n",
    "all_files = get_all_csv_files()\n",
    "\n",
    "for file in all_files:\n",
    "    df = pd.read_csv(file)\n",
    "    df = df.replace({np.nan: None})\n",
    "    df['idrep'] = df['Date'].astype(str) + df['Time'].astype(str)\n",
    "    df['idrep'] = df['idrep'].str.replace(r\"[^A-Za-z0-9]\", \"\", regex=True)\n",
    "    df['idrep'] = df['idrep'].str.replace(r\"(AM|PM)$\", r\" \\1\", regex=True)\n",
    "\n",
    "    for col in df.select_dtypes(include=['float']):\n",
    "        df[col] = df[col].round(4)\n",
    "\n",
    "    for _, row in df.iterrows():\n",
    "        if not cursor.execute(check_sql, (row['idrep'],)).fetchone()[0]:\n",
    "            try:\n",
    "                cursor.execute(insert_sql, tuple(row))\n",
    "            except Exception as e:\n",
    "                print(f\"Error al insertar fila: {e}\")\n",
    "\n",
    "conn.commit()\n"
   ]
  },
  {
   "cell_type": "code",
   "execution_count": null,
   "id": "26fc2299",
   "metadata": {},
   "outputs": [],
   "source": [
    "cursor.close()\n",
    "conn.close()\n",
    "print(\"End.\")"
   ]
  }
 ],
 "metadata": {
  "language_info": {
   "name": "python"
  }
 },
 "nbformat": 4,
 "nbformat_minor": 5
}
